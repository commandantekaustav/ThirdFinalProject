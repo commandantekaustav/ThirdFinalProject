{
 "cells": [
  {
   "cell_type": "markdown",
   "metadata": {},
   "source": [
    "<u><h1><center>Data Analysis and Morphological Classification of Galaxies from SDSS</center></h1></u>"
   ]
  },
  {
   "cell_type": "markdown",
   "metadata": {},
   "source": [
    "## <u> Introduction:</u>\n",
    "<div style=\"text-align: justify\"> Astronomy dates back as far as the ancient Indians, the Egyptians, the Mayans, the Inkas and the Mesopotemians. Astronomy was used as a means of\n",
    "keeping track of time and predicting future events which was achieved through a\n",
    "combination of religion, astrology and the meticulous study of the positions and\n",
    "motions of various celestial bodies. It is generally believed that priests were the first\n",
    "professional astronomers, the pioneers of the field.<img style=\"float: left;\" src=\"files/Images/heliocentric.1jpg.jpg\" width=\"150\" height=\"40\" border=5px>\n",
    "The real renaissance of astronomy began in the 1500s when Nicholaus Copernicus, a Polish university-trained Catholic priest, mathematician and astronomer,\n",
    "proposed a heliocentric model of our Universe in which the Sun, rather than the\n",
    "Earth, is in the center of the Solar System. <br><br> Figure in the left graphically illustrates this\n",
    "model. Just before he died in 1543, he published a book entitled <i>De revolutionibus\n",
    "orbium coelestium (On the Revolutions of the Celestial Spheres)</i> which became one\n",
    "of the most important contributions towards the scientific revolution.<img style=\"float: right;\" src=\"files/Images/m6.jpg\" width=\"350\" height=\"40\"> </div>\n",
    "\n",
    "### <u>Terminologies:</u> \n",
    "<div style=\"text-align: justify\">\n",
    "<b><u>Galaxy</u></b>: A galaxy is defined as a populous system of stars, dust, dark matter and gases\n",
    "that are all bound together by gravity. There are numerous sizes that a galaxy can\n",
    "possess in terms of the number of stars that live within it, ranging anywhere from \n",
    "10 million to 10 trillion stars. There are two common general shapes that a galaxy\n",
    "can take, either spiral or elliptical. Many variations within each also exist as well\n",
    "as less-common shapes such as toothpicks or rings.<br><br>\n",
    "<i><u><b>Messier 64 (M64)</b></u> - A spiral galaxy, the result of a collision between two galaxies. Due to the spectacular dark band of dust surrounding the galaxy’s\n",
    "bright nuclues, its been nicknamed by some as the Evil Eye galaxy (credit: hubblesite.org).</i>\n",
    "<img style=\"float: left;\" src=\"files/Images/quasar.jpg\" width=\"200\" height=\"40\"><br><br>\n",
    "<b><u>Star:</u></b> A star, our Sun being a perfect example, is essentially a sphere of immensely\n",
    "hot gas, mainly that of hydrogen, partly helium and with minute traces of other\n",
    "various gases. Within its core, an incredible amount of energy is generated through\n",
    "the process of fusion in which smaller atoms smash together at great speeds to form\n",
    "larger atoms. Likewise with galaxies, astronomers also have a process for classifying\n",
    "stars. They are grouped into spectral types. By spectral, we refer to the temperature\n",
    "and brightness of the surfaces of the stars. <br><br>\n",
    "<b><u>Quasar:</u></b> a massive and extremely remote celestial object, emitting exceptionally large amounts of energy, and typically having a starlike image in a telescope. It has been suggested that quasars contain massive black holes and may represent a stage in the evolution of some galaxies.<i>(Above figure contains some of the clearest light views of quasar taken till date.) (credit: nasa.gov)</i>  <br><br>\n",
    "<b><u>Morphology:</u></b> <b><i>Galaxy morphology</i></b> <i>is a visual grouping system used by astronomers for galaxy\n",
    "classification</i>. Almost a hundred years have now passed since it was first discovered that galaxies were independent systems subjected to morphology and mergers.<img style=\"float: left;\" src=\"files/Images/hubblefork.jpeg\" width=\"400\" height=\"50\"><br><br> <i>The most famous system for morphological classification, known as the</i> <b><i>Hubble Tuning Fork System</i></b>, <i>was proposed by American astronomer <b>Edwin Powell Hubble</b> in the year 1936.</i><br><br>\n",
    "In 1936, when Hubble released<img style=\"float: right;\" src=\"files/Images/ugriz.png\" width=\"300\" height=\"40\"> his book Realm of the Nebulae, that research in the area became abundant and the study of galaxy morphology became a well established sub-field of optical astronomy. Since then, there have been numerous studies and proposed revisions to the <b>Fork Sequence</b> that have been published. Hubble is generally regarded, in the field, as one of the most important observational cosmologists of the 20th century who played an important role in the establishment of the field of extragalactic astronomy. <br><br>\n",
    "<b><u>Redshift:</u></b> A shift toward longer wavelengths of the spectral lines emitted by a celestial object that is caused by the object moving away from the earth. It is used by astronomers to compare the distances among two faraway celestial objects.\n",
    "</div>\n",
    "\n"
   ]
  },
  {
   "cell_type": "markdown",
   "metadata": {},
   "source": [
    "## <u>Objectives:</u> \n",
    "<div style=\"text-align: justify\">\n",
    "The datasets, which will be used in this project are not balanced. SDSS left almost 70% of it's entries unclassified. On the other hand most of the galaxies in the GalaxyZoo project are labelled as Uncertain. This is because GalaxyZoo uses human classifiers and in many cases the volunteers do not agree on a single conclusion. A 80% voting threshold is used to determine the morphology of each galaxy. Although such a high threshold is desirable, the outcome has significantly increased uncertainty instead of helping astronomers and cosmologists in their quest to unfold the facts about our universe. Combined datasets contain some probabilistic scores of each morphological classes according to each entry. This scores will help a lot in our research work.<br><br>\n",
    "Main aim of this project is to perform an intelligent data analysis technique to resolve this uncertainities. Three datasets with 1000,10000 and 100000 are used here for performance comparision purposes.</div>\n",
    "\n"
   ]
  },
  {
   "cell_type": "markdown",
   "metadata": {},
   "source": [
    "## <u>Requirement Analysis and Specification:</u>\n",
    "### <u>Data Excavation Sites:</u>\n",
    "Datasets used this project are mined from the following servers;\n",
    "\n",
    "1. <b><i><u>GalaxyZoo1:</u></i></b> <div style=\"text-align: justify\">\n",
    "Galaxy Zoo is a crowdsourced astronomy project which invites people to assist in the morphological classification of large numbers of galaxies. It is an example of citizen science as it enlists the help of members of the public to help in scientific research.There have been 15 versions as of July 2017, many of which are outlined in this article. Galaxy Zoo is part of the Zooniverse, a group of citizen science projects. An outcome of the project is to better determine the different aspects of objects and to separate them into classifications.</div>\n",
    "\n",
    "    A subscript from their official page says the following:<div style=\"text-align: justify\">\n",
    "\n",
    "\n",
    "><div style=\"text-align: justify\">\n",
    "\"*Galaxy Zoo is a scientific project that has invited members of the public to help classify a million galaxies. Those involved are directly contributing to scientific research, while getting an opportunity to view the beautiful and varied galaxies that inhabit our universe.Why do we need people to do this, rather than just using a computer? The simple answer is that the human brain is much \n",
    "     better at recognising patterns than a computer. Galaxies are complicated objects that vary in appearance enormously, and yet in \n",
    "     some ways they can be very similar. We could write a computer program to classify these galaxies, and many researchers have, \n",
    "    but so far none have really done a good enough job. We have not been able to make computers ‘see past’ the complexity, to reliably identify the similarities that appear obvious to our eyes and brain. For now, and probably for some time yet, people  do the best job of classifying galaxies.*\"\n",
    ">><div style=\"text-align: justify\">\n",
    "\"*Getting all these galaxy classifications is just the first stage of our project. What we really want to do is some science, to try and understand what kind of galaxies there are, how they formed, and the processes that have changed them into the systems we see today. The journey from raw classifications to accepted scientific results is often long and arduous. In this blog we aim to explain the steps involved, and the scientific ideas we are working on.*\"\n",
    "\n",
    "\n",
    "<div style=\"text-align: justify\">\n",
    "2. <b><i><u>GalaxyZoo2:</u></i></b> The original Galaxy Zoo consisted of a data set made up of ≈900,000 galaxies imaged by the Sloan Digital Sky Survey. With so many galaxies, it had been assumed that it would take years for visitors to the site to work through them all, but within 24 hours of launch, the website was receiving almost 70,000 classifications an hour. In the end, more than 50 million classifications were received by the project during its first year, contributed by more than 150,000 people. This was started in July 2007 and retired in 2009. **GalaxyZoo2** consisted of some 250,000 of the brightest galaxies from the Sloan Digital Sky Survey. Galaxy Zoo 2 allowed for a much more detailed classification, by shape and by the intensity or dimness of the galactic core, and with a special section for oddities like mergers or ring galaxies. The sample also contained fewer optical oddities. The project closed with some 60 million classifications\n",
    "</div><br>\n",
    "\n",
    "<div style=\"text-align: justify\">\n",
    "3. <u><i><b>Sloan Digital SkyServer</b></i></u>(_10th,12th and 14th release_)**:**</u> The Sloan Digital Sky Survey or SDSS is a major multi-spectral imaging and spectroscopic redshift survey using a dedicated 2.5-m wide-angle optical telescope at Apache Point Observatory in New Mexico, United States. The project was named after the Alfred P. Sloan Foundation, which contributed significant funding.\n",
    "    <br><br><b><i>Data collection began in 2000; the final imaging data release (DR9) covers over 35% of the sky,</i> with photometric observations of around nearly 1 billion objects,</b> <i>while the survey continues to acquire spectra, having so far taken spectra of over 4 million objects.</i> The main galaxy sample has a median redshift of z = 0.1; there are redshifts for luminous red galaxies as far as z = 0.7, and for quasars as far as z = 5; and the imaging survey has been involved in the detection of quasars beyond a redshift z = 6.\n",
    "<br><br><i><b>Data release 8 (DR8)</b>, released in January 2011</i>, includes all photometric observations taken with the SDSS imaging camera, covering 14,555 square degrees on the sky <i>(just over 35% of the full sky)</i>. <b><i>Data release 9 (DR9), released to the public on </i>31 July 2012</b>, includes the first results from the <b><i>Baryon Oscillation Spectroscopic Survey (BOSS)</i></b> spectrograph, including over 800,000 new spectra. Over 500,000 of the new spectra are of objects in the Universe 7 billion years ago <i>(roughly half the age of the universe)</i>. <b>Data release 10 (DR10), released to the public on 31 July 2013, includes all data from previous releases, plus the first results from the <i>APO Galactic Evolution Experiment (APOGEE)</i></b> spectrograph, including over 57,000 high-resolution infrared spectra of stars in the Milky Way. <i><b>DR10 also includes over 670,000 new BOSS spectra of galaxies and quasars in the distant universe.</b> <i>The publicly available images from the survey were made between 1998 and 2009.</i>\n",
    "\n",
    "**Query used for mining the Data**\n",
    "```javascript\n",
    "getData function(n){\n",
    "select top n\n",
    " p.objid,p.ra,p.dec,p.u,p.g,p.r,p.i,p.z,\n",
    " p.run, p.rerun, p.camcol, p.field,\n",
    " p.mCr4_u,p.mCr4_g,p.mCr4_r,p.mCr4_i,p.mCr4_z,\n",
    " p.mCr4PSF_u,p.mCr4PSF_g,p.mCr4PSF_r,p.mCr4PSF_i,p.mCr4PSF_z,\n",
    " p.petroR50_u,p.petroR50_g,p.petroR50_r,p.petroR50_i,p.petroR50_z,\n",
    " p.petroR90_u,p.petroR90_g,p.petroR90_r,p.petroR90_i,p.petroR90_z,p.type,\n",
    " s.specobjid, s.class,s.subClass, s.z as redshift,\n",
    " s.plate, s.mjd, s.fiberid,s.sourceType,\n",
    " z.nvote,z.p_el,z.p_cw,z.p_acw,z.p_edge,z.p_dk,z.p_mg\n",
    " FROM PhotoObjAll AS p\n",
    " JOIN SpecObjAll AS s ON s.bestObjID = p.objID JOIN zooNoSpec as z on p.objID = z.objID\n",
    "}\n",
    "```\n",
    "***Data Description***\n",
    ">First Dataset contains 1000 entries from GalaxyZoo\n",
    "Second and Third Dataset contains 10000 and 100000 combined entries respectively from all the servers and multiple relatio"
   ]
  },
  {
   "cell_type": "markdown",
   "metadata": {},
   "source": [
    "### <u>Tools and Languages used:</u>\n",
    "<b><u>Languages Used: </u></b>\n",
    "1. <b>Python</b>:<div style=\"text-align: justify\"> Python is an interpreted, high-level, general-purpose programming language. Created by Guido van Rossum and first released in 1991, Python's design philosophy emphasizes code readability with its notable use of significant whitespace.</div>\n",
    "2. <b>SQL</b>: <div style=\"text-align: justify\">\n",
    "SQL is a domain-specific language used in programming and designed for managing data held in a relational database management system, or for stream processing in a relational data stream management system.</div>\n",
    "3. <b>Markdown</b>: <div style=\"text-align: justify\">\n",
    "Markdown is a lightweight markup language with plain text formatting syntax. Its design allows it to be converted to many output formats, but the original tool by the same name only supports HTML.\n",
    "</div>\n",
    "\n",
    "\n",
    "<b><u>Tools Used: </u></b>:\n",
    "1. <b>Spyder3 IDE</b>: <div style=\"text-align: justify\">\n",
    "Spyder is a powerful scientific environment written in Python, for Python, and designed by and for scientists, engineers and data analysts.</div>\n",
    "2. <b>Space Engine</b>: <div style=\"text-align: justify\">\n",
    "SpaceEngine is a proprietary 3D astronomy program and game engine developed by Russian astronomer and programmer Vladimir Romanyuk. It creates a three-dimensional planetarium representing the entire universe from a combination of real astronomical data and scientifically-accurate procedural generation algorithms.</div>\n",
    "3. <b>Stellarium</b>: <div style=\"text-align: justify\">\n",
    "Stellarium is an open-source free-software planetarium, licensed under the terms of the GNU General Public License version 2, available for Linux, Windows, and macOS. A port Stellarium called Stellarium Mobile is available for Android, iOS, and Symbian as a paid version, being developed by Noctua Software.</div>\n",
    "4. <b>SDSS SkyServer SQL Search Tool</b>: <div style=\"text-align: justify\">\n",
    "Search tool for the public database of SDSS.</div>\n",
    "5. <b>Hubble Voyage</b>: <div style=\"text-align: justify\">\n",
    "Exploration tools especially made for students, educators and hobbyists. Used for checking observations manually.</div>\n",
    "6. <b>Astrometry</b>: Exploration tool for constellations.\n",
    "\n",
    "<div style=\"text-align: justify\">\n",
    "Data can be easily mined from the skyserver by using their own sql based search tool which is available at *https://skyserver.sdss.org/dr12/en/tools/search/sql.aspx *. Observations can be checked manually using another tool from the skyserver popularly known as the **voyage:** *http://cas.sdss.org/dr15/en/tools/chart/navi.aspx* and is widely used  by the educators and students from all over the world! or ;<br>**astrometry:** *http://nova.astrometry.net/user_images*</div>"
   ]
  },
  {
   "cell_type": "markdown",
   "metadata": {},
   "source": [
    "### Algorithms Used\n",
    "\n",
    "sad\n",
    "as\n",
    "d\n",
    "\n",
    "d\n",
    "s\n",
    "s\n",
    "\n",
    "s\n",
    "\n",
    "s\n",
    "s\n",
    "\n",
    "\n",
    "\n",
    "\n",
    "\n",
    "\n",
    "\n",
    "\n",
    "\n",
    "\n",
    "\n",
    "\n",
    "s\n",
    "ks\n",
    "ks\n",
    "s\n",
    "\n",
    "s\n",
    "\n",
    "s\n",
    "sks\n",
    "s\n",
    "\n",
    "s\n",
    "s\n",
    "s\n",
    "s"
   ]
  },
  {
   "cell_type": "markdown",
   "metadata": {},
   "source": [
    "### Libraries Used:\n",
    "s\\\n",
    "\n",
    "\n",
    "s\n",
    "\n",
    "a\n",
    "\n",
    "s\n",
    "\n",
    "ds\n",
    "\n",
    "d\n",
    "\n",
    "sd\n",
    "\n",
    "sd\n",
    "\n",
    "sd\n",
    "\n",
    "sd\n",
    "\n",
    "sd\n",
    "\n",
    "sd\n",
    "\n",
    "sd\n",
    "\n",
    "sd\n",
    "\n",
    "as\n",
    "\n",
    "\n"
   ]
  },
  {
   "cell_type": "code",
   "execution_count": 9,
   "metadata": {},
   "outputs": [
    {
     "data": {
      "text/html": [
       "<script>requirejs.config({paths: { 'plotly': ['https://cdn.plot.ly/plotly-latest.min']},});if(!window.Plotly) {{require(['plotly'],function(plotly) {window.Plotly=plotly;});}}</script>"
      ],
      "text/vnd.plotly.v1+html": [
       "<script>requirejs.config({paths: { 'plotly': ['https://cdn.plot.ly/plotly-latest.min']},});if(!window.Plotly) {{require(['plotly'],function(plotly) {window.Plotly=plotly;});}}</script>"
      ]
     },
     "metadata": {},
     "output_type": "display_data"
    }
   ],
   "source": [
    "import numpy as np \n",
    "import pandas as pd \n",
    "import matplotlib.pyplot as plt\n",
    "%matplotlib inline\n",
    "\n",
    "import seaborn as sns\n",
    "import plotly.offline as py\n",
    "color = sns.color_palette()\n",
    "import plotly.graph_objs as go\n",
    "py.init_notebook_mode(connected=True)\n",
    "import plotly.tools as tls\n",
    "\n",
    "from IPython.display import Math\n",
    "\n",
    "import warnings\n",
    "warnings.filterwarnings('ignore')\n",
    "\n",
    "SMALL_SIZE = 10\n",
    "MEDIUM_SIZE = 12\n",
    "\n",
    "plt.rc('font', size=SMALL_SIZE)\n",
    "plt.rc('axes', titlesize=MEDIUM_SIZE)\n",
    "plt.rc('axes', labelsize=MEDIUM_SIZE)\n",
    "plt.rcParams['figure.dpi']=150"
   ]
  },
  {
   "cell_type": "markdown",
   "metadata": {},
   "source": [
    "## <u>Dataset 1:</u>\n",
    "This dataset is limited to only three types of galaxy: spirals, ellipticals and mergers. It is a sample of galaxies where at <img style=\"float: left;\" src=\"files/Images/spelmg.png\" width=\"350\" height=\"30\" border=5px>least 20 human classifiers agreed to the same galaxy type. Examples of spiral and elliptical galaxies were selected where there was a unanimous classification. Due to low sample numbers, merger examples ar included which holds an 80% threshold, so that the classifier can be trained in a better way.\n",
    "\n",
    "Features used in these datasets are derived from fitting images according to known galaxy profiles and are mostly based on flux magnitudes.(SDSS used 'u','g','r','i','z' photometric system).\n",
    "\n",
    "### <u>Feature Description:</u>\n",
    "<b>Color Index: </b> Spectroscopic wavebands (u,g,r,i,z for this project).\n",
    "\n",
    "<b>Adaptive moments: </b> Adaptive moments are the second moments of the object intensity, measured using a particular scheme designed to have near-optimal signal-to-noise ratio. Moments are measured using a radial weight function interactively adapted to the shape (ellipticity) and size of the object. This elliptical weight function has a signal-to-noise advantage over axially symmetric weight functions. In principle there is an optimal (in terms of signal-to-noise) radial shape for the weight function, which is related to the light profile of the object itself. Adaptive moments also describe the shape of a galaxy. They are used in image analysis to detect similar objects at different sizes and orientations. We use the fourth moment here for each band.\n",
    "\n",
    "<b>Concentration: </b> Concentration is similar to the luminosity profile of the galaxy, which measures what proportion of a galaxy's total light is emitted within what radius. A simplified way to represent this is to take the ratio of the radii containing 50% and 90% of the Petrosian flux.\n",
    "\n",
    "The Petrosian method allows us to compare the radial profiles of galaxies at different distances. If you are interested, you can read more here on the need for Petrosian approach.\n",
    "\n",
    "For these experiments, we will define concentration as:"
   ]
  },
  {
   "cell_type": "code",
   "execution_count": 17,
   "metadata": {},
   "outputs": [
    {
     "data": {
      "text/latex": [
       "$$\\mbox{conc} = \\frac{\\mbox{petro}_{R50}}{\\mbox{petro}_{R90}}$$"
      ],
      "text/plain": [
       "<IPython.core.display.Math object>"
      ]
     },
     "execution_count": 17,
     "metadata": {},
     "output_type": "execute_result"
    }
   ],
   "source": [
    "Math(r'\\mbox{conc} = \\frac{\\mbox{petro}_{R50}}{\\mbox{petro}_{R90}}')\n"
   ]
  },
  {
   "cell_type": "markdown",
   "metadata": {},
   "source": [
    "We will use the concentration from the u, r and z bands."
   ]
  },
  {
   "cell_type": "code",
   "execution_count": 10,
   "metadata": {},
   "outputs": [
    {
     "name": "stdout",
     "output_type": "stream",
     "text": [
      "Number data galaxies: 780\n",
      "Train fraction: 0.7\n",
      "Number of galaxies in training set: 548\n",
      "Number of galaxies in testing set: 232\n"
     ]
    }
   ],
   "source": [
    "data1 = pd.DataFrame(np.load('D:\\\\\\ThirdFinalProject\\\\\\Data_Mining\\\\\\GalaxyMorphologicalExcavation.npy'))\n",
    "fraction_training = 0.7\n",
    "msk = np.random.rand(len(data1)) < fraction_training\n",
    "train = data1[msk]\n",
    "test = data1[~msk]\n",
    "\n",
    "\n",
    "print('Number data galaxies:', len(data1))\n",
    "print('Train fraction:', fraction_training)\n",
    "print('Number of galaxies in training set:', len(train))\n",
    "print('Number of galaxies in testing set:', len(test))"
   ]
  },
  {
   "cell_type": "code",
   "execution_count": null,
   "metadata": {},
   "outputs": [],
   "source": []
  }
 ],
 "metadata": {
  "kernelspec": {
   "display_name": "Python 3",
   "language": "python",
   "name": "python3"
  },
  "language_info": {
   "codemirror_mode": {
    "name": "ipython",
    "version": 3
   },
   "file_extension": ".py",
   "mimetype": "text/x-python",
   "name": "python",
   "nbconvert_exporter": "python",
   "pygments_lexer": "ipython3",
   "version": "3.6.5"
  }
 },
 "nbformat": 4,
 "nbformat_minor": 2
}
